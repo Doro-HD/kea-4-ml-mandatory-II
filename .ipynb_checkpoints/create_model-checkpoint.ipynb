{
 "cells": [
  {
   "cell_type": "code",
   "execution_count": 1,
   "id": "fa7f9695-f45f-4f22-8d58-dbdd761910bf",
   "metadata": {
    "tags": []
   },
   "outputs": [
    {
     "name": "stderr",
     "output_type": "stream",
     "text": [
      "2023-05-01 15:31:50.034063: I tensorflow/tsl/cuda/cudart_stub.cc:28] Could not find cuda drivers on your machine, GPU will not be used.\n",
      "2023-05-01 15:31:50.074967: I tensorflow/tsl/cuda/cudart_stub.cc:28] Could not find cuda drivers on your machine, GPU will not be used.\n",
      "2023-05-01 15:31:50.076030: I tensorflow/core/platform/cpu_feature_guard.cc:182] This TensorFlow binary is optimized to use available CPU instructions in performance-critical operations.\n",
      "To enable the following instructions: AVX2 FMA, in other operations, rebuild TensorFlow with the appropriate compiler flags.\n",
      "2023-05-01 15:31:50.847502: W tensorflow/compiler/tf2tensorrt/utils/py_utils.cc:38] TF-TRT Warning: Could not find TensorRT\n"
     ]
    }
   ],
   "source": [
    "import tensorflow as tf\n",
    "import string\n",
    "import requests\n",
    "import numpy as np\n",
    "from tensorflow.keras.preprocessing.text import Tokenizer\n",
    "from tensorflow.keras.utils import to_categorical\n",
    "from tensorflow.keras.models import Sequential, load_model\n",
    "from tensorflow.keras.layers import Dense, LSTM, Embedding\n",
    "from tensorflow.keras.preprocessing.sequence import pad_sequences\n",
    "import re\n",
    "import os"
   ]
  },
  {
   "cell_type": "code",
   "execution_count": 2,
   "id": "fecb9be0-229d-49a5-9486-6fbd54c1ce0d",
   "metadata": {
    "tags": []
   },
   "outputs": [],
   "source": [
    "data = ''\n",
    "with open('./asoif.txt') as f:\n",
    "    lines = ''.join(f.readlines())\n",
    "    lines = lines.replace('\\n', 'å')\n",
    "    lines = re.sub('\\å', ' å ', lines)\n",
    "    lines = re.sub('\\s+', ' ', lines)\n",
    "    \n",
    "    data = lines"
   ]
  },
  {
   "cell_type": "code",
   "execution_count": 3,
   "id": "d3f95d24-9b2d-445a-936b-15f4d30ac15d",
   "metadata": {
    "tags": []
   },
   "outputs": [],
   "source": [
    "def clean(doc):\n",
    "    tokens = doc.split()\n",
    "    \n",
    "    #removes all puncutation\n",
    "    table = str.maketrans('', '', string.punctuation)\n",
    "    tokens = [w.translate(table) for w in tokens]\n",
    "    tokens = [w.lower() for w in tokens if w.isalpha()]\n",
    "    \n",
    "    return tokens"
   ]
  },
  {
   "cell_type": "code",
   "execution_count": 4,
   "id": "6804b0ca-32a4-46bd-9b1e-91ef3787013e",
   "metadata": {
    "tags": []
   },
   "outputs": [],
   "source": [
    "tokens = clean(data)"
   ]
  },
  {
   "cell_type": "code",
   "execution_count": 5,
   "id": "17987937-5313-4fab-b318-af512a99350d",
   "metadata": {
    "tags": []
   },
   "outputs": [],
   "source": [
    "length = 50 + 1\n",
    "lines = []\n",
    "\n",
    "for i in range(length, len(tokens)):\n",
    "               # first iteration will be [0:51] so the first 50 tokens\n",
    "               seq = tokens[i - length: i]\n",
    "               line = ' '.join(seq)\n",
    "               \n",
    "               lines.append(line)\n",
    "               if i > 10000:\n",
    "                   break"
   ]
  },
  {
   "cell_type": "code",
   "execution_count": 6,
   "id": "62f08ce7-9e7d-42cb-814a-1df5ea217961",
   "metadata": {
    "tags": []
   },
   "outputs": [],
   "source": [
    "tokenizer = Tokenizer()\n",
    "\n",
    "#will give each word a number\n",
    "tokenizer.fit_on_texts(lines)\n",
    "sequences = tokenizer.texts_to_sequences(lines)\n",
    "sequences = np.array(sequences)"
   ]
  },
  {
   "cell_type": "code",
   "execution_count": 7,
   "id": "0421870b-7b9e-4ffb-9e72-3f9412ee60a3",
   "metadata": {
    "tags": []
   },
   "outputs": [],
   "source": [
    "X = sequences[:, :-1]\n",
    "y = sequences[:, -1]"
   ]
  },
  {
   "cell_type": "code",
   "execution_count": 8,
   "id": "beb362b4-df7f-474e-8277-a0e329b531a7",
   "metadata": {
    "tags": []
   },
   "outputs": [],
   "source": [
    "vocab_size = len(tokenizer.word_index) + 1\n",
    "y = to_categorical(y, num_classes=vocab_size)"
   ]
  },
  {
   "cell_type": "code",
   "execution_count": 9,
   "id": "14572de7-66cd-4133-b696-e54b66ab7805",
   "metadata": {
    "tags": []
   },
   "outputs": [
    {
     "name": "stderr",
     "output_type": "stream",
     "text": [
      "2023-05-01 15:31:54.091793: E tensorflow/compiler/xla/stream_executor/cuda/cuda_driver.cc:266] failed call to cuInit: CUDA_ERROR_NO_DEVICE: no CUDA-capable device is detected\n",
      "2023-05-01 15:31:54.437690: I tensorflow/core/common_runtime/executor.cc:1197] [/device:CPU:0] (DEBUG INFO) Executor start aborting (this does not indicate an error and you can ignore this message): INVALID_ARGUMENT: You must feed a value for placeholder tensor 'gradients/split_2_grad/concat/split_2/split_dim' with dtype int32\n",
      "\t [[{{node gradients/split_2_grad/concat/split_2/split_dim}}]]\n",
      "2023-05-01 15:31:54.439261: I tensorflow/core/common_runtime/executor.cc:1197] [/device:CPU:0] (DEBUG INFO) Executor start aborting (this does not indicate an error and you can ignore this message): INVALID_ARGUMENT: You must feed a value for placeholder tensor 'gradients/split_grad/concat/split/split_dim' with dtype int32\n",
      "\t [[{{node gradients/split_grad/concat/split/split_dim}}]]\n",
      "2023-05-01 15:31:54.440314: I tensorflow/core/common_runtime/executor.cc:1197] [/device:CPU:0] (DEBUG INFO) Executor start aborting (this does not indicate an error and you can ignore this message): INVALID_ARGUMENT: You must feed a value for placeholder tensor 'gradients/split_1_grad/concat/split_1/split_dim' with dtype int32\n",
      "\t [[{{node gradients/split_1_grad/concat/split_1/split_dim}}]]\n",
      "2023-05-01 15:31:54.615120: I tensorflow/core/common_runtime/executor.cc:1197] [/device:CPU:0] (DEBUG INFO) Executor start aborting (this does not indicate an error and you can ignore this message): INVALID_ARGUMENT: You must feed a value for placeholder tensor 'gradients/split_2_grad/concat/split_2/split_dim' with dtype int32\n",
      "\t [[{{node gradients/split_2_grad/concat/split_2/split_dim}}]]\n",
      "2023-05-01 15:31:54.616462: I tensorflow/core/common_runtime/executor.cc:1197] [/device:CPU:0] (DEBUG INFO) Executor start aborting (this does not indicate an error and you can ignore this message): INVALID_ARGUMENT: You must feed a value for placeholder tensor 'gradients/split_grad/concat/split/split_dim' with dtype int32\n",
      "\t [[{{node gradients/split_grad/concat/split/split_dim}}]]\n",
      "2023-05-01 15:31:54.618073: I tensorflow/core/common_runtime/executor.cc:1197] [/device:CPU:0] (DEBUG INFO) Executor start aborting (this does not indicate an error and you can ignore this message): INVALID_ARGUMENT: You must feed a value for placeholder tensor 'gradients/split_1_grad/concat/split_1/split_dim' with dtype int32\n",
      "\t [[{{node gradients/split_1_grad/concat/split_1/split_dim}}]]\n"
     ]
    }
   ],
   "source": [
    "model = None\n",
    "if os.path.isfile('./model.h5'):\n",
    "    model = load_model('./model.h5')\n",
    "else:\n",
    "    model = Sequential()\n",
    "    model.add(Embedding(input_dim=vocab_size, output_dim=50, input_length=X.shape[1]))\n",
    "\n",
    "    #lstm uses tanH activation function as default\n",
    "    #return_sequences should be true unless it is the last lstm \n",
    "    model.add(LSTM(100, return_sequences=True))\n",
    "    model.add(LSTM(100, return_sequences=False))\n",
    "\n",
    "    model.add(Dense(100, activation='relu'))\n",
    "    model.add(Dense(vocab_size, activation='softmax'))\n",
    "    \n",
    "    model.compile(loss='categorical_crossentropy', optimizer='adam', metrics=['accuracy'])"
   ]
  },
  {
   "cell_type": "code",
   "execution_count": 10,
   "id": "6cb8a04b-0205-4f10-b868-f231d892e32a",
   "metadata": {
    "tags": []
   },
   "outputs": [
    {
     "name": "stdout",
     "output_type": "stream",
     "text": [
      "Epoch 1/15\n"
     ]
    },
    {
     "name": "stderr",
     "output_type": "stream",
     "text": [
      "2023-05-01 15:31:55.010103: I tensorflow/core/common_runtime/executor.cc:1197] [/device:CPU:0] (DEBUG INFO) Executor start aborting (this does not indicate an error and you can ignore this message): INVALID_ARGUMENT: You must feed a value for placeholder tensor 'gradients/split_2_grad/concat/split_2/split_dim' with dtype int32\n",
      "\t [[{{node gradients/split_2_grad/concat/split_2/split_dim}}]]\n",
      "2023-05-01 15:31:55.012394: I tensorflow/core/common_runtime/executor.cc:1197] [/device:CPU:0] (DEBUG INFO) Executor start aborting (this does not indicate an error and you can ignore this message): INVALID_ARGUMENT: You must feed a value for placeholder tensor 'gradients/split_grad/concat/split/split_dim' with dtype int32\n",
      "\t [[{{node gradients/split_grad/concat/split/split_dim}}]]\n",
      "2023-05-01 15:31:55.013746: I tensorflow/core/common_runtime/executor.cc:1197] [/device:CPU:0] (DEBUG INFO) Executor start aborting (this does not indicate an error and you can ignore this message): INVALID_ARGUMENT: You must feed a value for placeholder tensor 'gradients/split_1_grad/concat/split_1/split_dim' with dtype int32\n",
      "\t [[{{node gradients/split_1_grad/concat/split_1/split_dim}}]]\n",
      "2023-05-01 15:31:55.196739: I tensorflow/core/common_runtime/executor.cc:1197] [/device:CPU:0] (DEBUG INFO) Executor start aborting (this does not indicate an error and you can ignore this message): INVALID_ARGUMENT: You must feed a value for placeholder tensor 'gradients/split_2_grad/concat/split_2/split_dim' with dtype int32\n",
      "\t [[{{node gradients/split_2_grad/concat/split_2/split_dim}}]]\n",
      "2023-05-01 15:31:55.198215: I tensorflow/core/common_runtime/executor.cc:1197] [/device:CPU:0] (DEBUG INFO) Executor start aborting (this does not indicate an error and you can ignore this message): INVALID_ARGUMENT: You must feed a value for placeholder tensor 'gradients/split_grad/concat/split/split_dim' with dtype int32\n",
      "\t [[{{node gradients/split_grad/concat/split/split_dim}}]]\n",
      "2023-05-01 15:31:55.199546: I tensorflow/core/common_runtime/executor.cc:1197] [/device:CPU:0] (DEBUG INFO) Executor start aborting (this does not indicate an error and you can ignore this message): INVALID_ARGUMENT: You must feed a value for placeholder tensor 'gradients/split_1_grad/concat/split_1/split_dim' with dtype int32\n",
      "\t [[{{node gradients/split_1_grad/concat/split_1/split_dim}}]]\n"
     ]
    },
    {
     "name": "stdout",
     "output_type": "stream",
     "text": [
      "39/39 [==============================] - 7s 145ms/step - loss: 0.3509 - accuracy: 0.9125\n",
      "Epoch 2/15\n",
      "39/39 [==============================] - 6s 153ms/step - loss: 0.4291 - accuracy: 0.8844\n",
      "Epoch 3/15\n",
      "39/39 [==============================] - 6s 154ms/step - loss: 0.4534 - accuracy: 0.8704\n",
      "Epoch 4/15\n",
      "39/39 [==============================] - 6s 152ms/step - loss: 0.4379 - accuracy: 0.8785\n",
      "Epoch 5/15\n",
      "39/39 [==============================] - 6s 143ms/step - loss: 0.3729 - accuracy: 0.9017\n",
      "Epoch 6/15\n",
      "39/39 [==============================] - 6s 143ms/step - loss: 0.2821 - accuracy: 0.9326\n",
      "Epoch 7/15\n",
      "39/39 [==============================] - 6s 142ms/step - loss: 0.2204 - accuracy: 0.9564\n",
      "Epoch 8/15\n",
      "39/39 [==============================] - 5s 141ms/step - loss: 0.1859 - accuracy: 0.9662\n",
      "Epoch 9/15\n",
      "39/39 [==============================] - 5s 141ms/step - loss: 0.1623 - accuracy: 0.9741\n",
      "Epoch 10/15\n",
      "39/39 [==============================] - 5s 141ms/step - loss: 0.1536 - accuracy: 0.9755\n",
      "Epoch 11/15\n",
      "39/39 [==============================] - 5s 141ms/step - loss: 0.1470 - accuracy: 0.9765\n",
      "Epoch 12/15\n",
      "39/39 [==============================] - 5s 140ms/step - loss: 0.1447 - accuracy: 0.9785\n",
      "Epoch 13/15\n",
      "39/39 [==============================] - 5s 141ms/step - loss: 0.1419 - accuracy: 0.9773\n",
      "Epoch 14/15\n",
      "39/39 [==============================] - 5s 141ms/step - loss: 0.1394 - accuracy: 0.9791\n",
      "Epoch 15/15\n",
      "39/39 [==============================] - 6s 141ms/step - loss: 0.1362 - accuracy: 0.9789\n"
     ]
    },
    {
     "data": {
      "text/plain": [
       "<keras.callbacks.History at 0x7f79c430e410>"
      ]
     },
     "execution_count": 10,
     "metadata": {},
     "output_type": "execute_result"
    }
   ],
   "source": [
    "model.fit(X, y, epochs=15, batch_size=256, verbose=1)"
   ]
  },
  {
   "cell_type": "code",
   "execution_count": 12,
   "id": "51c77941-3d6f-401b-b100-7a8f2d2492b4",
   "metadata": {
    "tags": []
   },
   "outputs": [],
   "source": [
    "model.save('./model.h5')"
   ]
  }
 ],
 "metadata": {
  "kernelspec": {
   "display_name": "Python 3 (ipykernel)",
   "language": "python",
   "name": "python3"
  },
  "language_info": {
   "codemirror_mode": {
    "name": "ipython",
    "version": 3
   },
   "file_extension": ".py",
   "mimetype": "text/x-python",
   "name": "python",
   "nbconvert_exporter": "python",
   "pygments_lexer": "ipython3",
   "version": "3.11.2"
  }
 },
 "nbformat": 4,
 "nbformat_minor": 5
}
